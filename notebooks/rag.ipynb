{
 "cells": [
  {
   "cell_type": "code",
   "execution_count": 3,
   "metadata": {},
   "outputs": [],
   "source": [
    "#https://python.langchain.com/v0.2/docs/tutorials/rag/"
   ]
  },
  {
   "cell_type": "code",
   "execution_count": 53,
   "metadata": {
    "scrolled": false
   },
   "outputs": [
    {
     "name": "stdout",
     "output_type": "stream",
     "text": [
      "Defaulting to user installation because normal site-packages is not writeable\n",
      "Requirement already satisfied: langchain in /Users/5chan/Library/Python/3.10/lib/python/site-packages (0.3.7)\n",
      "Requirement already satisfied: PyYAML>=5.3 in /Users/5chan/Library/Python/3.10/lib/python/site-packages (from langchain) (6.0.2)\n",
      "Requirement already satisfied: SQLAlchemy<3,>=1.4 in /Users/5chan/Library/Python/3.10/lib/python/site-packages (from langchain) (2.0.35)\n",
      "Requirement already satisfied: aiohttp<4.0.0,>=3.8.3 in /Users/5chan/Library/Python/3.10/lib/python/site-packages (from langchain) (3.10.10)\n",
      "Requirement already satisfied: async-timeout<5.0.0,>=4.0.0 in /Users/5chan/Library/Python/3.10/lib/python/site-packages (from langchain) (4.0.3)\n",
      "Requirement already satisfied: langchain-core<0.4.0,>=0.3.15 in /Users/5chan/Library/Python/3.10/lib/python/site-packages (from langchain) (0.3.15)\n",
      "Requirement already satisfied: langchain-text-splitters<0.4.0,>=0.3.0 in /Users/5chan/Library/Python/3.10/lib/python/site-packages (from langchain) (0.3.0)\n",
      "Requirement already satisfied: langsmith<0.2.0,>=0.1.17 in /Users/5chan/Library/Python/3.10/lib/python/site-packages (from langchain) (0.1.137)\n",
      "Requirement already satisfied: numpy<2,>=1 in /Users/5chan/Library/Python/3.10/lib/python/site-packages (from langchain) (1.26.4)\n",
      "Requirement already satisfied: pydantic<3.0.0,>=2.7.4 in /Users/5chan/Library/Python/3.10/lib/python/site-packages (from langchain) (2.9.2)\n",
      "Requirement already satisfied: requests<3,>=2 in /Users/5chan/Library/Python/3.10/lib/python/site-packages (from langchain) (2.32.3)\n",
      "Requirement already satisfied: tenacity!=8.4.0,<10,>=8.1.0 in /Users/5chan/Library/Python/3.10/lib/python/site-packages (from langchain) (8.5.0)\n",
      "Requirement already satisfied: aiohappyeyeballs>=2.3.0 in /Users/5chan/Library/Python/3.10/lib/python/site-packages (from aiohttp<4.0.0,>=3.8.3->langchain) (2.4.3)\n",
      "Requirement already satisfied: aiosignal>=1.1.2 in /Users/5chan/Library/Python/3.10/lib/python/site-packages (from aiohttp<4.0.0,>=3.8.3->langchain) (1.3.1)\n",
      "Requirement already satisfied: attrs>=17.3.0 in /Library/Frameworks/Python.framework/Versions/3.10/lib/python3.10/site-packages (from aiohttp<4.0.0,>=3.8.3->langchain) (23.2.0)\n",
      "Requirement already satisfied: frozenlist>=1.1.1 in /Users/5chan/Library/Python/3.10/lib/python/site-packages (from aiohttp<4.0.0,>=3.8.3->langchain) (1.5.0)\n",
      "Requirement already satisfied: multidict<7.0,>=4.5 in /Users/5chan/Library/Python/3.10/lib/python/site-packages (from aiohttp<4.0.0,>=3.8.3->langchain) (6.1.0)\n",
      "Requirement already satisfied: yarl<2.0,>=1.12.0 in /Users/5chan/Library/Python/3.10/lib/python/site-packages (from aiohttp<4.0.0,>=3.8.3->langchain) (1.16.0)\n",
      "Requirement already satisfied: jsonpatch<2.0,>=1.33 in /Users/5chan/Library/Python/3.10/lib/python/site-packages (from langchain-core<0.4.0,>=0.3.15->langchain) (1.33)\n",
      "Requirement already satisfied: packaging<25,>=23.2 in /Users/5chan/Library/Python/3.10/lib/python/site-packages (from langchain-core<0.4.0,>=0.3.15->langchain) (24.1)\n",
      "Requirement already satisfied: typing-extensions>=4.7 in /Users/5chan/Library/Python/3.10/lib/python/site-packages (from langchain-core<0.4.0,>=0.3.15->langchain) (4.12.2)\n",
      "Requirement already satisfied: httpx<1,>=0.23.0 in /Users/5chan/Library/Python/3.10/lib/python/site-packages (from langsmith<0.2.0,>=0.1.17->langchain) (0.27.2)\n",
      "Requirement already satisfied: orjson<4.0.0,>=3.9.14 in /Users/5chan/Library/Python/3.10/lib/python/site-packages (from langsmith<0.2.0,>=0.1.17->langchain) (3.10.10)\n",
      "Requirement already satisfied: requests-toolbelt<2.0.0,>=1.0.0 in /Users/5chan/Library/Python/3.10/lib/python/site-packages (from langsmith<0.2.0,>=0.1.17->langchain) (1.0.0)\n",
      "Requirement already satisfied: annotated-types>=0.6.0 in /Users/5chan/Library/Python/3.10/lib/python/site-packages (from pydantic<3.0.0,>=2.7.4->langchain) (0.7.0)\n",
      "Requirement already satisfied: pydantic-core==2.23.4 in /Users/5chan/Library/Python/3.10/lib/python/site-packages (from pydantic<3.0.0,>=2.7.4->langchain) (2.23.4)\n",
      "Requirement already satisfied: charset-normalizer<4,>=2 in /Users/5chan/Library/Python/3.10/lib/python/site-packages (from requests<3,>=2->langchain) (3.3.2)\n",
      "Requirement already satisfied: idna<4,>=2.5 in /Library/Frameworks/Python.framework/Versions/3.10/lib/python3.10/site-packages (from requests<3,>=2->langchain) (3.6)\n",
      "Requirement already satisfied: urllib3<3,>=1.21.1 in /Library/Frameworks/Python.framework/Versions/3.10/lib/python3.10/site-packages (from requests<3,>=2->langchain) (2.2.0)\n",
      "Requirement already satisfied: certifi>=2017.4.17 in /Library/Frameworks/Python.framework/Versions/3.10/lib/python3.10/site-packages (from requests<3,>=2->langchain) (2022.9.24)\n",
      "Requirement already satisfied: anyio in /Users/5chan/Library/Python/3.10/lib/python/site-packages (from httpx<1,>=0.23.0->langsmith<0.2.0,>=0.1.17->langchain) (4.6.0)\n",
      "Requirement already satisfied: httpcore==1.* in /Users/5chan/Library/Python/3.10/lib/python/site-packages (from httpx<1,>=0.23.0->langsmith<0.2.0,>=0.1.17->langchain) (1.0.5)\n",
      "Requirement already satisfied: sniffio in /Library/Frameworks/Python.framework/Versions/3.10/lib/python3.10/site-packages (from httpx<1,>=0.23.0->langsmith<0.2.0,>=0.1.17->langchain) (1.3.0)\n",
      "Requirement already satisfied: h11<0.15,>=0.13 in /Library/Frameworks/Python.framework/Versions/3.10/lib/python3.10/site-packages (from httpcore==1.*->httpx<1,>=0.23.0->langsmith<0.2.0,>=0.1.17->langchain) (0.14.0)\n",
      "Requirement already satisfied: jsonpointer>=1.9 in /Users/5chan/Library/Python/3.10/lib/python/site-packages (from jsonpatch<2.0,>=1.33->langchain-core<0.4.0,>=0.3.15->langchain) (3.0.0)\n",
      "Requirement already satisfied: propcache>=0.2.0 in /Users/5chan/Library/Python/3.10/lib/python/site-packages (from yarl<2.0,>=1.12.0->aiohttp<4.0.0,>=3.8.3->langchain) (0.2.0)\n",
      "Requirement already satisfied: exceptiongroup>=1.0.2 in /Library/Frameworks/Python.framework/Versions/3.10/lib/python3.10/site-packages (from anyio->httpx<1,>=0.23.0->langsmith<0.2.0,>=0.1.17->langchain) (1.2.0)\n",
      "Defaulting to user installation because normal site-packages is not writeable\n",
      "Collecting gradio\n",
      "  Downloading gradio-5.5.0-py3-none-any.whl.metadata (16 kB)\n",
      "Collecting aiofiles<24.0,>=22.0 (from gradio)\n",
      "  Downloading aiofiles-23.2.1-py3-none-any.whl.metadata (9.7 kB)\n",
      "Requirement already satisfied: anyio<5.0,>=3.0 in /Users/5chan/Library/Python/3.10/lib/python/site-packages (from gradio) (4.6.0)\n",
      "Requirement already satisfied: fastapi<1.0,>=0.115.2 in /Users/5chan/Library/Python/3.10/lib/python/site-packages (from gradio) (0.115.3)\n",
      "Collecting ffmpy (from gradio)\n",
      "  Downloading ffmpy-0.4.0-py3-none-any.whl.metadata (2.9 kB)\n",
      "Collecting gradio-client==1.4.2 (from gradio)\n",
      "  Downloading gradio_client-1.4.2-py3-none-any.whl.metadata (7.1 kB)\n",
      "Requirement already satisfied: httpx>=0.24.1 in /Users/5chan/Library/Python/3.10/lib/python/site-packages (from gradio) (0.27.2)\n",
      "Requirement already satisfied: huggingface-hub>=0.25.1 in /Users/5chan/Library/Python/3.10/lib/python/site-packages (from gradio) (0.26.1)\n",
      "Requirement already satisfied: jinja2<4.0 in /Users/5chan/Library/Python/3.10/lib/python/site-packages (from gradio) (3.1.4)\n",
      "Requirement already satisfied: markupsafe~=2.0 in /Users/5chan/Library/Python/3.10/lib/python/site-packages (from gradio) (2.1.5)\n",
      "Requirement already satisfied: numpy<3.0,>=1.0 in /Users/5chan/Library/Python/3.10/lib/python/site-packages (from gradio) (1.26.4)\n",
      "Requirement already satisfied: orjson~=3.0 in /Users/5chan/Library/Python/3.10/lib/python/site-packages (from gradio) (3.10.10)\n",
      "Requirement already satisfied: packaging in /Users/5chan/Library/Python/3.10/lib/python/site-packages (from gradio) (24.1)\n",
      "Requirement already satisfied: pandas<3.0,>=1.0 in /Users/5chan/Library/Python/3.10/lib/python/site-packages (from gradio) (2.2.3)\n",
      "Collecting pillow<12.0,>=8.0 (from gradio)\n",
      "  Downloading pillow-11.0.0-cp310-cp310-macosx_11_0_arm64.whl.metadata (9.1 kB)\n",
      "Requirement already satisfied: pydantic>=2.0 in /Users/5chan/Library/Python/3.10/lib/python/site-packages (from gradio) (2.9.2)\n",
      "Collecting pydub (from gradio)\n",
      "  Downloading pydub-0.25.1-py2.py3-none-any.whl.metadata (1.4 kB)\n",
      "Collecting python-multipart==0.0.12 (from gradio)\n",
      "  Downloading python_multipart-0.0.12-py3-none-any.whl.metadata (1.9 kB)\n",
      "Requirement already satisfied: pyyaml<7.0,>=5.0 in /Users/5chan/Library/Python/3.10/lib/python/site-packages (from gradio) (6.0.2)\n",
      "Collecting ruff>=0.2.2 (from gradio)\n",
      "  Downloading ruff-0.7.3-py3-none-macosx_11_0_arm64.whl.metadata (25 kB)\n",
      "Collecting safehttpx<1.0,>=0.1.1 (from gradio)\n",
      "  Downloading safehttpx-0.1.1-py3-none-any.whl.metadata (4.1 kB)\n",
      "Collecting semantic-version~=2.0 (from gradio)\n",
      "  Downloading semantic_version-2.10.0-py2.py3-none-any.whl.metadata (9.7 kB)\n",
      "Requirement already satisfied: starlette<1.0,>=0.40.0 in /Users/5chan/Library/Python/3.10/lib/python/site-packages (from gradio) (0.41.0)\n",
      "Collecting tomlkit==0.12.0 (from gradio)\n",
      "  Downloading tomlkit-0.12.0-py3-none-any.whl.metadata (2.7 kB)\n",
      "Requirement already satisfied: typer<1.0,>=0.12 in /Users/5chan/Library/Python/3.10/lib/python/site-packages (from gradio) (0.12.5)\n",
      "Requirement already satisfied: typing-extensions~=4.0 in /Users/5chan/Library/Python/3.10/lib/python/site-packages (from gradio) (4.12.2)\n",
      "Requirement already satisfied: uvicorn>=0.14.0 in /Users/5chan/Library/Python/3.10/lib/python/site-packages (from gradio) (0.32.0)\n",
      "Requirement already satisfied: fsspec in /Users/5chan/Library/Python/3.10/lib/python/site-packages (from gradio-client==1.4.2->gradio) (2024.10.0)\n",
      "Collecting websockets<13.0,>=10.0 (from gradio-client==1.4.2->gradio)\n",
      "  Downloading websockets-12.0-cp310-cp310-macosx_11_0_arm64.whl.metadata (6.6 kB)\n",
      "Requirement already satisfied: idna>=2.8 in /Library/Frameworks/Python.framework/Versions/3.10/lib/python3.10/site-packages (from anyio<5.0,>=3.0->gradio) (3.6)\n",
      "Requirement already satisfied: sniffio>=1.1 in /Library/Frameworks/Python.framework/Versions/3.10/lib/python3.10/site-packages (from anyio<5.0,>=3.0->gradio) (1.3.0)\n",
      "Requirement already satisfied: exceptiongroup>=1.0.2 in /Library/Frameworks/Python.framework/Versions/3.10/lib/python3.10/site-packages (from anyio<5.0,>=3.0->gradio) (1.2.0)\n",
      "Requirement already satisfied: certifi in /Library/Frameworks/Python.framework/Versions/3.10/lib/python3.10/site-packages (from httpx>=0.24.1->gradio) (2022.9.24)\n",
      "Requirement already satisfied: httpcore==1.* in /Users/5chan/Library/Python/3.10/lib/python/site-packages (from httpx>=0.24.1->gradio) (1.0.5)\n",
      "Requirement already satisfied: h11<0.15,>=0.13 in /Library/Frameworks/Python.framework/Versions/3.10/lib/python3.10/site-packages (from httpcore==1.*->httpx>=0.24.1->gradio) (0.14.0)\n",
      "Requirement already satisfied: filelock in /Users/5chan/Library/Python/3.10/lib/python/site-packages (from huggingface-hub>=0.25.1->gradio) (3.16.1)\n",
      "Requirement already satisfied: requests in /Users/5chan/Library/Python/3.10/lib/python/site-packages (from huggingface-hub>=0.25.1->gradio) (2.32.3)\n",
      "Requirement already satisfied: tqdm>=4.42.1 in /Users/5chan/Library/Python/3.10/lib/python/site-packages (from huggingface-hub>=0.25.1->gradio) (4.66.5)\n",
      "Requirement already satisfied: python-dateutil>=2.8.2 in /Users/5chan/Library/Python/3.10/lib/python/site-packages (from pandas<3.0,>=1.0->gradio) (2.9.0.post0)\n",
      "Requirement already satisfied: pytz>=2020.1 in /Users/5chan/Library/Python/3.10/lib/python/site-packages (from pandas<3.0,>=1.0->gradio) (2024.2)\n",
      "Requirement already satisfied: tzdata>=2022.7 in /Users/5chan/Library/Python/3.10/lib/python/site-packages (from pandas<3.0,>=1.0->gradio) (2024.2)\n",
      "Requirement already satisfied: annotated-types>=0.6.0 in /Users/5chan/Library/Python/3.10/lib/python/site-packages (from pydantic>=2.0->gradio) (0.7.0)\n",
      "Requirement already satisfied: pydantic-core==2.23.4 in /Users/5chan/Library/Python/3.10/lib/python/site-packages (from pydantic>=2.0->gradio) (2.23.4)\n",
      "Requirement already satisfied: click>=8.0.0 in /Users/5chan/Library/Python/3.10/lib/python/site-packages (from typer<1.0,>=0.12->gradio) (8.1.7)\n",
      "Requirement already satisfied: shellingham>=1.3.0 in /Users/5chan/Library/Python/3.10/lib/python/site-packages (from typer<1.0,>=0.12->gradio) (1.5.4)\n",
      "Requirement already satisfied: rich>=10.11.0 in /Users/5chan/Library/Python/3.10/lib/python/site-packages (from typer<1.0,>=0.12->gradio) (13.9.3)\n",
      "Requirement already satisfied: six>=1.5 in /Users/5chan/Library/Python/3.10/lib/python/site-packages (from python-dateutil>=2.8.2->pandas<3.0,>=1.0->gradio) (1.16.0)\n",
      "Requirement already satisfied: markdown-it-py>=2.2.0 in /Users/5chan/Library/Python/3.10/lib/python/site-packages (from rich>=10.11.0->typer<1.0,>=0.12->gradio) (3.0.0)\n",
      "Requirement already satisfied: pygments<3.0.0,>=2.13.0 in /Users/5chan/Library/Python/3.10/lib/python/site-packages (from rich>=10.11.0->typer<1.0,>=0.12->gradio) (2.18.0)\n",
      "Requirement already satisfied: charset-normalizer<4,>=2 in /Users/5chan/Library/Python/3.10/lib/python/site-packages (from requests->huggingface-hub>=0.25.1->gradio) (3.3.2)\n",
      "Requirement already satisfied: urllib3<3,>=1.21.1 in /Library/Frameworks/Python.framework/Versions/3.10/lib/python3.10/site-packages (from requests->huggingface-hub>=0.25.1->gradio) (2.2.0)\n",
      "Requirement already satisfied: mdurl~=0.1 in /Users/5chan/Library/Python/3.10/lib/python/site-packages (from markdown-it-py>=2.2.0->rich>=10.11.0->typer<1.0,>=0.12->gradio) (0.1.2)\n",
      "Downloading gradio-5.5.0-py3-none-any.whl (56.7 MB)\n",
      "\u001b[2K   \u001b[90m━━━━━━━━━━━━━━━━━━━━━━━━━━━━━━━━━━━━━━━━\u001b[0m \u001b[32m56.7/56.7 MB\u001b[0m \u001b[31m3.9 MB/s\u001b[0m eta \u001b[36m0:00:00\u001b[0m00:01\u001b[0m00:01\u001b[0m\n",
      "\u001b[?25hDownloading gradio_client-1.4.2-py3-none-any.whl (319 kB)\n",
      "Downloading python_multipart-0.0.12-py3-none-any.whl (23 kB)\n",
      "Downloading tomlkit-0.12.0-py3-none-any.whl (37 kB)\n",
      "Downloading aiofiles-23.2.1-py3-none-any.whl (15 kB)\n",
      "Downloading pillow-11.0.0-cp310-cp310-macosx_11_0_arm64.whl (3.0 MB)\n",
      "\u001b[2K   \u001b[90m━━━━━━━━━━━━━━━━━━━━━━━━━━━━━━━━━━━━━━━━\u001b[0m \u001b[32m3.0/3.0 MB\u001b[0m \u001b[31m5.4 MB/s\u001b[0m eta \u001b[36m0:00:00\u001b[0ma \u001b[36m0:00:01\u001b[0m\n",
      "\u001b[?25hDownloading ruff-0.7.3-py3-none-macosx_11_0_arm64.whl (9.8 MB)\n",
      "\u001b[2K   \u001b[90m━━━━━━━━━━━━━━━━━━━━━━━━━━━━━━━━━━━━━━━━\u001b[0m \u001b[32m9.8/9.8 MB\u001b[0m \u001b[31m6.1 MB/s\u001b[0m eta \u001b[36m0:00:00\u001b[0ma \u001b[36m0:00:01\u001b[0mm\n",
      "\u001b[?25hDownloading safehttpx-0.1.1-py3-none-any.whl (8.4 kB)\n",
      "Downloading semantic_version-2.10.0-py2.py3-none-any.whl (15 kB)\n",
      "Downloading ffmpy-0.4.0-py3-none-any.whl (5.8 kB)\n",
      "Downloading pydub-0.25.1-py2.py3-none-any.whl (32 kB)\n",
      "Downloading websockets-12.0-cp310-cp310-macosx_11_0_arm64.whl (121 kB)\n",
      "Installing collected packages: pydub, websockets, tomlkit, semantic-version, ruff, python-multipart, pillow, ffmpy, aiofiles, safehttpx, gradio-client, gradio\n",
      "  Attempting uninstall: websockets\n",
      "    Found existing installation: websockets 13.1\n",
      "    Uninstalling websockets-13.1:\n",
      "      Successfully uninstalled websockets-13.1\n",
      "Successfully installed aiofiles-23.2.1 ffmpy-0.4.0 gradio-5.5.0 gradio-client-1.4.2 pillow-11.0.0 pydub-0.25.1 python-multipart-0.0.12 ruff-0.7.3 safehttpx-0.1.1 semantic-version-2.10.0 tomlkit-0.12.0 websockets-12.0\n"
     ]
    }
   ],
   "source": [
    "! pip install langchain\n",
    "! pip install gradio"
   ]
  },
  {
   "cell_type": "code",
   "execution_count": 5,
   "metadata": {},
   "outputs": [
    {
     "name": "stdout",
     "output_type": "stream",
     "text": [
      "Defaulting to user installation because normal site-packages is not writeable\n",
      "Requirement already satisfied: tenacity==8.5.0 in /Users/5chan/Library/Python/3.10/lib/python/site-packages (8.5.0)\n"
     ]
    }
   ],
   "source": [
    "! pip install tenacity==8.5.0"
   ]
  },
  {
   "cell_type": "code",
   "execution_count": 6,
   "metadata": {
    "scrolled": true
   },
   "outputs": [],
   "source": [
    "! pip install --quiet --upgrade langchain langchain-community langchain-chroma"
   ]
  },
  {
   "cell_type": "code",
   "execution_count": 15,
   "metadata": {},
   "outputs": [
    {
     "name": "stdout",
     "output_type": "stream",
     "text": [
      "Defaulting to user installation because normal site-packages is not writeable\n",
      "Requirement already satisfied: python-dotenv in /Users/5chan/Library/Python/3.10/lib/python/site-packages (1.0.1)\n"
     ]
    }
   ],
   "source": [
    "! pip install -qU langchain-openai\n",
    "! pip install python-dotenv"
   ]
  },
  {
   "cell_type": "code",
   "execution_count": 3,
   "metadata": {},
   "outputs": [],
   "source": [
    "#make sure to replace the api key with your own! i don't wanna be charged for too many calls LMAOO\n",
    "from dotenv import load_dotenv\n",
    "import os\n",
    "\n",
    "load_dotenv(override=True)\n",
    "\n",
    "langchain_api_key = os.getenv('LANGCHAIN_API_KEY')\n",
    "openai_api_key = os.getenv('OPENAI_API_KEY')\n",
    "\n",
    "os.environ['LANGCHAIN_TRACING_V2'] = 'true'\n",
    "os.environ['LANGCHAIN_ENDPOINT'] = 'https://api.smith.langchain.com'\n",
    "os.environ['LANGCHAIN_API_KEY'] = langchain_api_key\n",
    "os.environ['OPENAI_API_KEY'] = openai_api_key"
   ]
  },
  {
   "cell_type": "code",
   "execution_count": 37,
   "metadata": {},
   "outputs": [],
   "source": [
    "#again, replace with your own open ai api key\n",
    "#not sure how fast we're gonna use our free calls but we should prob create a local free rag application with ollama if goldhirsh doesn't give us funding soon\n",
    "#os.environ['OPENAI_API_KEY'] = \"\""
   ]
  },
  {
   "cell_type": "code",
   "execution_count": 4,
   "metadata": {
    "scrolled": true
   },
   "outputs": [],
   "source": [
    "from langchain_community.document_loaders import JSONLoader\n",
    "import json\n",
    "from pathlib import Path\n",
    "\n",
    "file_path='./idea-2024-new.json'\n",
    "data = json.loads(Path(file_path).read_text(encoding='utf-8'))\n",
    "loader = JSONLoader(\n",
    "         file_path=file_path,\n",
    "         jq_schema=\".[].summary\",\n",
    "         text_content=True)"
   ]
  },
  {
   "cell_type": "code",
   "execution_count": 5,
   "metadata": {},
   "outputs": [],
   "source": [
    "docs = loader.load()"
   ]
  },
  {
   "cell_type": "code",
   "execution_count": 6,
   "metadata": {},
   "outputs": [
    {
     "data": {
      "text/plain": [
       "874"
      ]
     },
     "execution_count": 6,
     "metadata": {},
     "output_type": "execute_result"
    }
   ],
   "source": [
    "from langchain_text_splitters import RecursiveCharacterTextSplitter\n",
    "\n",
    "text_splitter = RecursiveCharacterTextSplitter(\n",
    "    chunk_size=1000, chunk_overlap=200, add_start_index=True\n",
    ")\n",
    "all_splits = text_splitter.split_documents(docs)\n",
    "\n",
    "len(all_splits)"
   ]
  },
  {
   "cell_type": "code",
   "execution_count": 7,
   "metadata": {},
   "outputs": [],
   "source": [
    "from langchain_chroma import Chroma\n",
    "from langchain_openai import OpenAIEmbeddings\n",
    "\n",
    "vectorstore = Chroma.from_documents(documents=all_splits, embedding=OpenAIEmbeddings())"
   ]
  },
  {
   "cell_type": "code",
   "execution_count": 8,
   "metadata": {},
   "outputs": [],
   "source": [
    "retriever = vectorstore.as_retriever()"
   ]
  },
  {
   "cell_type": "code",
   "execution_count": 9,
   "metadata": {},
   "outputs": [
    {
     "data": {
      "text/plain": [
       "'Vision Possible and Food on Foot are two organizations that help the homeless in Los Angeles. Vision Possible focuses on helping the homeless regain their lives and be productive citizens, while Food on Foot provides meals, supplies, and assistance in securing jobs and housing for the homeless.'"
      ]
     },
     "execution_count": 9,
     "metadata": {},
     "output_type": "execute_result"
    }
   ],
   "source": [
    "from langchain import hub\n",
    "from langchain_core.runnables import RunnablePassthrough\n",
    "from langchain_core.output_parsers import StrOutputParser\n",
    "from langchain_openai import ChatOpenAI, OpenAIEmbeddings\n",
    "\n",
    "#### RETRIEVAL and GENERATION ####\n",
    "\n",
    "# Prompt\n",
    "prompt = hub.pull(\"rlm/rag-prompt\")\n",
    "\n",
    "# LLM\n",
    "llm = ChatOpenAI(model_name=\"gpt-3.5-turbo\", temperature=0)\n",
    "\n",
    "# Post-processing\n",
    "def format_docs(docs):\n",
    "    return \"\\n\\n\".join(doc.page_content for doc in docs)\n",
    "\n",
    "# Chain\n",
    "rag_chain = (\n",
    "    {\"context\": retriever | format_docs, \"question\": RunnablePassthrough()}\n",
    "    | prompt\n",
    "    | llm\n",
    "    | StrOutputParser()\n",
    ")\n",
    "\n",
    "# Question\n",
    "rag_chain.invoke(\"Which organization helps the homeless?\")"
   ]
  },
  {
   "cell_type": "code",
   "execution_count": null,
   "metadata": {},
   "outputs": [
    {
     "name": "stdout",
     "output_type": "stream",
     "text": [
      "* Running on local URL:  http://127.0.0.1:7861\n",
      "* Running on public URL: https://f65ce4d2b596d1e9a4.gradio.live\n",
      "\n",
      "This share link expires in 72 hours. For free permanent hosting and GPU upgrades, run `gradio deploy` from the terminal in the working directory to deploy to Hugging Face Spaces (https://huggingface.co/spaces)\n"
     ]
    },
    {
     "data": {
      "text/html": [
       "<div><iframe src=\"https://f65ce4d2b596d1e9a4.gradio.live\" width=\"100%\" height=\"500\" allow=\"autoplay; camera; microphone; clipboard-read; clipboard-write;\" frameborder=\"0\" allowfullscreen></iframe></div>"
      ],
      "text/plain": [
       "<IPython.core.display.HTML object>"
      ]
     },
     "metadata": {},
     "output_type": "display_data"
    },
    {
     "name": "stdout",
     "output_type": "stream",
     "text": [
      "Keyboard interruption in main thread... closing server.\n",
      "Killing tunnel 127.0.0.1:7861 <> https://f65ce4d2b596d1e9a4.gradio.live\n"
     ]
    },
    {
     "data": {
      "text/plain": []
     },
     "execution_count": 37,
     "metadata": {},
     "output_type": "execute_result"
    }
   ],
   "source": [
    "from langchain.chains import create_retrieval_chain\n",
    "from langchain.chains.combine_documents import create_stuff_documents_chain\n",
    "from langchain_core.prompts import ChatPromptTemplate\n",
    "\n",
    "import gradio as gr\n",
    "import time\n",
    "\n",
    "system_prompt = (\n",
    "    \"You are an assistant for question-answering tasks. \"\n",
    "    \"Use the following pieces of retrieved context to answer \"\n",
    "    \"the question. If you don't know the answer, say that you \"\n",
    "    \"don't know. Use three sentences maximum and keep the \"\n",
    "    \"answer concise.\"\n",
    "    \"\\n\\n\"\n",
    "    \"{context}\"\n",
    ")\n",
    "\n",
    "prompt = ChatPromptTemplate.from_messages(\n",
    "    [\n",
    "        (\"system\", system_prompt),\n",
    "        (\"human\", \"{input}\"),\n",
    "    ]\n",
    ")\n",
    "\n",
    "\n",
    "question_answer_chain = create_stuff_documents_chain(llm, prompt)\n",
    "rag_chain = create_retrieval_chain(retriever, question_answer_chain)\n",
    "\n",
    "green_theme = gr.themes.Base(\n",
    "    primary_hue=gr.themes.Color(\n",
    "        c50=\"#00A168\",    # main green \n",
    "        c100=\"#57B485\",   # accent green\n",
    "        c200=\"#D7ECE0\",   # light green background color\n",
    "        c300=\"#FFFFFF\",   # White background\n",
    "        c400=\"#EAE9E9\",   # Light grey border\n",
    "        c500=\"#000000\",   # Black text\n",
    "        c600=\"#3A905E\",   # Darker green for hover or other accents\n",
    "        c700=\"#2A774A\",   # Even darker green for deeper accents\n",
    "        c800=\"#1A5E36\",   # Dark green, deeper accent\n",
    "        c900=\"#0A4512\",   # Very dark green\n",
    "        c950=\"#052A08\"    # Deepest green for high contrast\n",
    "    ),\n",
    "    font=[gr.themes.GoogleFont('Space Grotesk'), 'ui-sans-serif', 'system-ui', 'sans-serif']\n",
    ").set(\n",
    "    body_background_fill='#00A168',               # green background\n",
    "    body_text_color='#000000',                    # Black text for readability\n",
    "    background_fill_primary='#FFFFFF',            # Light green for user message background\n",
    "    background_fill_secondary='#FFFFFF',          # Set input textbox color to light grey\n",
    "    border_color_accent='#57B485',                # Green border accent\n",
    "    border_color_accent_subdued='#EAE9E9',        # Light grey for less prominent borders\n",
    "    color_accent='#57B485',                       # Green accent for primary elements\n",
    "    color_accent_soft='#D7ECE0',                  # Softer green accent\n",
    "    checkbox_background_color='#FFFFFF',          # Light grey for checkbox backgrounds\n",
    "    button_primary_background_fill='#57B485',     # Green background for primary buttons\n",
    "    button_primary_background_fill_hover='#3A905E', # Darker green on hover\n",
    "    button_secondary_background_fill='#D7ECE0',   # Light green background for secondary buttons\n",
    "    button_secondary_text_color='#000000'         # Black text for secondary buttons\n",
    ")\n",
    "\n",
    "\n",
    "\n",
    "# integrate gradio with RAG logic\n",
    "def message_and_history(input, history):\n",
    "    history = history or []\n",
    "    history.append({\"role\": \"user\", \"content\": input})\n",
    "\n",
    "    response = rag_chain.invoke({\"input\": input})\n",
    "    answer = response[\"answer\"]\n",
    "    chatbot_message = {\"role\": \"assistant\", \"content\": \"\"}\n",
    "    history.append(chatbot_message)\n",
    "\n",
    "    for character in answer:\n",
    "        chatbot_message[\"content\"] += character\n",
    "        time.sleep(0.05)\n",
    "        yield history, history\n",
    "\n",
    "# set to light mode\n",
    "js_func = \"\"\"\n",
    "function refresh() {\n",
    "    const url = new URL(window.location);\n",
    "\n",
    "    if (url.searchParams.get('__theme') !== 'light') {\n",
    "        url.searchParams.set('__theme', 'light');\n",
    "        window.location.href = url.href;\n",
    "    }\n",
    "}\n",
    "\"\"\"\n",
    "\n",
    "# setup gradio interface\n",
    "with gr.Blocks(theme=green_theme, js=js_func) as block:\n",
    "\n",
    "    gr.Markdown(\"<h1><center>Chat with Sunny</center></h1>\", elem_classes=\"custom-header\")\n",
    "    chatbot = gr.Chatbot(type=\"messages\")\n",
    "    state = gr.State([])\n",
    "    \n",
    "    with gr.Row():\n",
    "        message = gr.Textbox(placeholder=\"Type a message\", label=\"\", elem_classes=\"custom-textbox\", scale=3)\n",
    "        send_button = gr.Button(\"\", elem_classes=\"send-button\", scale=1)\n",
    "\n",
    "    send_button.click(message_and_history, inputs=[message, state], outputs=[chatbot, state])\n",
    "\n",
    "\n",
    "block.css = \"\"\"\"\"\n",
    "    .custom-header h1 {\n",
    "    color: #FFFFFF; /* Change this to the desired color */\n",
    "    text-align: center;\n",
    "    }\n",
    "    .custom-textbox input {\n",
    "        background-color: #EAE9E9 !important;\n",
    "    }\n",
    "    .send-button {\n",
    "        background: none;\n",
    "        border: none;\n",
    "        font-size: 20px;\n",
    "        padding: 0 10px;\n",
    "        cursor: pointer;\n",
    "    }\n",
    "    .send-button:after {\n",
    "        content: '\\\\27A4'; /* Unicode for paper plane icon, or use your preferred icon */\n",
    "        color: #57B485;\n",
    "    }\n",
    "    .send-button:hover:after {\n",
    "        color: #3A905E;\n",
    "    }\n",
    "    \"\"\"\n",
    "# launch interface\n",
    "block.launch(debug=True, share=True)"
   ]
  },
  {
   "cell_type": "code",
   "execution_count": 52,
   "metadata": {},
   "outputs": [
    {
     "name": "stdout",
     "output_type": "stream",
     "text": [
      "page_content='Homelessness is not an individual issue. It is a community issue. Our organization, Vision Possible, aims to conduct a  vision to help the homeless regain their lives and be productive citizens like you and me.' metadata={'seq_num': 266, 'source': '/Users/5chan/Desktop/LA2050chatbot/notebooks/idea-2024-new.json', 'start_index': 0}\n",
      "\n",
      "page_content='This grant will go towards three separate projects/programs that have the same targeted audience – the homeless. The first project is to help reunify homeless people with their families/friends (if they so choose) through the creation of a homeless directory that would be available for the public to use, secondly, raise awareness about the daily struggles the homeless face in LA, and lastly, to promote homeless organizations with free ads.' metadata={'seq_num': 709, 'source': '/Users/5chan/Desktop/LA2050chatbot/notebooks/idea-2024-new.json', 'start_index': 0}\n",
      "\n",
      "page_content='Food on Foot works to alleviate homelessness in Los Angeles by fulfilling two crucial needs: our weekly Sunday Serving event provides our hungry and unhoused neighbors with healthy meals and supplies, while our Jobs & Housing Program assists people in securing jobs, permanent housing, and independence. We seek to scale our services through an innovative and successful new volunteer initiative called FRIENDS. To meet the need we are requesting the necessary funds to hire a Mental Health Leader to provide guidance, leadership, and direct service.' metadata={'seq_num': 221, 'source': '/Users/5chan/Desktop/LA2050chatbot/notebooks/idea-2024-new.json', 'start_index': 0}\n",
      "\n",
      "page_content='Families with young children who are homeless or housing insecure are an all-too frequently overlooked group impacted by Los Angeles' greatest community crisis. We are bringing together, for the first time, homelessness and early childhood nonprofits to identify and act on concrete solutions to their challenges and to raise their issues to elected leaders, influencers and the public.' metadata={'seq_num': 54, 'source': '/Users/5chan/Desktop/LA2050chatbot/notebooks/idea-2024-new.json', 'start_index': 0}\n",
      "\n"
     ]
    }
   ],
   "source": [
    "for document in response[\"context\"]:\n",
    "    print(document)\n",
    "    print()"
   ]
  },
  {
   "cell_type": "code",
   "execution_count": 52,
   "metadata": {},
   "outputs": [],
   "source": [
    "#TO DO: add message history\n",
    "#https://python.langchain.com/docs/how_to/message_history/"
   ]
  },
  {
   "cell_type": "code",
   "execution_count": 53,
   "metadata": {},
   "outputs": [],
   "source": [
    "#TO DO: local rag application (so we can do more in depth testing without making too many open ai api calls) - using ollama?\n",
    "#https://python.langchain.com/v0.2/docs/tutorials/local_rag/"
   ]
  },
  {
   "cell_type": "code",
   "execution_count": null,
   "metadata": {},
   "outputs": [],
   "source": []
  }
 ],
 "metadata": {
  "kernelspec": {
   "display_name": "Python 3",
   "language": "python",
   "name": "python3"
  },
  "language_info": {
   "codemirror_mode": {
    "name": "ipython",
    "version": 3
   },
   "file_extension": ".py",
   "mimetype": "text/x-python",
   "name": "python",
   "nbconvert_exporter": "python",
   "pygments_lexer": "ipython3",
   "version": "3.10.7"
  }
 },
 "nbformat": 4,
 "nbformat_minor": 2
}
